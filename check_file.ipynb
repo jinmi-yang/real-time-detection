{
 "cells": [
  {
   "cell_type": "code",
   "execution_count": 1,
   "id": "13c051ff",
   "metadata": {},
   "outputs": [],
   "source": [
    "import os\n",
    "import json\n",
    "import cv2"
   ]
  },
  {
   "cell_type": "code",
   "execution_count": 4,
   "id": "e1b9748b",
   "metadata": {},
   "outputs": [
    {
     "data": {
      "text/plain": [
       "6475"
      ]
     },
     "execution_count": 4,
     "metadata": {},
     "output_type": "execute_result"
    }
   ],
   "source": [
    "# train 이미지의 bbox 정보 추출\n",
    "path = \"/home/piai/바탕화면/OCR_seg_data_origin/data/\"\n",
    "file_list = os.listdir(path)\n",
    "len(file_list)"
   ]
  },
  {
   "cell_type": "code",
   "execution_count": null,
   "id": "3f2a1c0c",
   "metadata": {},
   "outputs": [],
   "source": [
    "for file_name in file_list:\n",
    "    json_p = '/home/piai/바탕화면/OCR_seg_data_origin/resultFiles/%s.json'%file_name[:-4]\n",
    "\n",
    "    with open(json_p, 'r') as f:\n",
    "        json_data = json.load(f)\n",
    "\n",
    "    img_path = path + file_name\n",
    "    img = cv2.imread(img_path, cv2.IMREAD_COLOR)\n",
    "\n",
    "    for img_info in json_data['bboxes']:\n",
    "        bbox = list(map(int, img_info))\n",
    "        x, y, w, h = bbox\n",
    "\n",
    "        cv2.rectangle(img, (x, y), (x + w, y + h), 1, 2)\n",
    "\n",
    "    cv2.imwrite('/home/piai/바탕화면/OCR_seg_data_origin/check_img/%s_사본.png'%file_name[:-4], img)"
   ]
  },
  {
   "cell_type": "code",
   "execution_count": null,
   "id": "f88ee0b1",
   "metadata": {},
   "outputs": [],
   "source": []
  }
 ],
 "metadata": {
  "kernelspec": {
   "display_name": "Python 3",
   "language": "python",
   "name": "python3"
  },
  "language_info": {
   "codemirror_mode": {
    "name": "ipython",
    "version": 3
   },
   "file_extension": ".py",
   "mimetype": "text/x-python",
   "name": "python",
   "nbconvert_exporter": "python",
   "pygments_lexer": "ipython3",
   "version": "3.8.8"
  }
 },
 "nbformat": 4,
 "nbformat_minor": 5
}
