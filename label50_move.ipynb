{
 "cells": [
  {
   "cell_type": "code",
   "execution_count": 163,
   "id": "0ec73385",
   "metadata": {},
   "outputs": [],
   "source": [
    "import matplotlib.pyplot as plt\n",
    "import os\n",
    "import numpy as np\n",
    "from pathlib import Path"
   ]
  },
  {
   "cell_type": "code",
   "execution_count": 164,
   "id": "d6cd2bb4",
   "metadata": {},
   "outputs": [
    {
     "data": {
      "text/plain": [
       "12887"
      ]
     },
     "execution_count": 164,
     "metadata": {},
     "output_type": "execute_result"
    }
   ],
   "source": [
    "path = \"/media/piai/TOSHIBA EXT/OCR_crop/train/\"\n",
    "path2 = '/media/piai/TOSHIBA EXT/OCR_crop/val/'\n",
    "file_list = os.listdir(path)\n",
    "len(file_list)"
   ]
  },
  {
   "cell_type": "code",
   "execution_count": 8,
   "id": "a20b638d",
   "metadata": {},
   "outputs": [],
   "source": [
    "file_nums = {}\n",
    "\n",
    "for file_name in file_list:\n",
    "    file_nums[file_name] = len(os.listdir(path+file_name)) + len(os.listdir(path2+file_name))"
   ]
  },
  {
   "cell_type": "code",
   "execution_count": 18,
   "id": "0f0def62",
   "metadata": {},
   "outputs": [
    {
     "data": {
      "text/plain": [
       "4893"
      ]
     },
     "execution_count": 18,
     "metadata": {},
     "output_type": "execute_result"
    }
   ],
   "source": [
    "cnt=0\n",
    "new_50 = []\n",
    "for key, value in file_nums.items():\n",
    "    if value >50:\n",
    "        new_50.append(key)\n",
    "len(new_50)"
   ]
  },
  {
   "cell_type": "code",
   "execution_count": 24,
   "id": "5eed8309",
   "metadata": {
    "scrolled": true
   },
   "outputs": [
    {
     "data": {
      "text/html": [
       "<div>\n",
       "<style scoped>\n",
       "    .dataframe tbody tr th:only-of-type {\n",
       "        vertical-align: middle;\n",
       "    }\n",
       "\n",
       "    .dataframe tbody tr th {\n",
       "        vertical-align: top;\n",
       "    }\n",
       "\n",
       "    .dataframe thead th {\n",
       "        text-align: right;\n",
       "    }\n",
       "</style>\n",
       "<table border=\"1\" class=\"dataframe\">\n",
       "  <thead>\n",
       "    <tr style=\"text-align: right;\">\n",
       "      <th></th>\n",
       "      <th>label</th>\n",
       "      <th>idx</th>\n",
       "    </tr>\n",
       "  </thead>\n",
       "  <tbody>\n",
       "    <tr>\n",
       "      <th>0</th>\n",
       "      <td>NaN</td>\n",
       "      <td>0</td>\n",
       "    </tr>\n",
       "    <tr>\n",
       "      <th>1</th>\n",
       "      <td>簧</td>\n",
       "      <td>1</td>\n",
       "    </tr>\n",
       "    <tr>\n",
       "      <th>2</th>\n",
       "      <td>霅</td>\n",
       "      <td>2</td>\n",
       "    </tr>\n",
       "    <tr>\n",
       "      <th>3</th>\n",
       "      <td>詫</td>\n",
       "      <td>3</td>\n",
       "    </tr>\n",
       "    <tr>\n",
       "      <th>4</th>\n",
       "      <td>垤</td>\n",
       "      <td>4</td>\n",
       "    </tr>\n",
       "    <tr>\n",
       "      <th>...</th>\n",
       "      <td>...</td>\n",
       "      <td>...</td>\n",
       "    </tr>\n",
       "    <tr>\n",
       "      <th>12882</th>\n",
       "      <td>沽</td>\n",
       "      <td>12882</td>\n",
       "    </tr>\n",
       "    <tr>\n",
       "      <th>12883</th>\n",
       "      <td>睚</td>\n",
       "      <td>12883</td>\n",
       "    </tr>\n",
       "    <tr>\n",
       "      <th>12884</th>\n",
       "      <td>𧞸</td>\n",
       "      <td>12884</td>\n",
       "    </tr>\n",
       "    <tr>\n",
       "      <th>12885</th>\n",
       "      <td>麥</td>\n",
       "      <td>12885</td>\n",
       "    </tr>\n",
       "    <tr>\n",
       "      <th>12886</th>\n",
       "      <td>憘</td>\n",
       "      <td>12886</td>\n",
       "    </tr>\n",
       "  </tbody>\n",
       "</table>\n",
       "<p>12887 rows × 2 columns</p>\n",
       "</div>"
      ],
      "text/plain": [
       "      label    idx\n",
       "0       NaN      0\n",
       "1         簧      1\n",
       "2         霅      2\n",
       "3         詫      3\n",
       "4         垤      4\n",
       "...     ...    ...\n",
       "12882     沽  12882\n",
       "12883     睚  12883\n",
       "12884     𧞸  12884\n",
       "12885     麥  12885\n",
       "12886     憘  12886\n",
       "\n",
       "[12887 rows x 2 columns]"
      ]
     },
     "execution_count": 24,
     "metadata": {},
     "output_type": "execute_result"
    }
   ],
   "source": [
    "import pandas as pd\n",
    "label_df = pd.read_csv(\"/home/piai/Documents/OCR_crop/haeseo_label.csv\", names = ['label', 'idx'])\n",
    "label_df"
   ]
  },
  {
   "cell_type": "code",
   "execution_count": null,
   "id": "3a43cb96",
   "metadata": {},
   "outputs": [],
   "source": []
  },
  {
   "cell_type": "markdown",
   "id": "debe6f15",
   "metadata": {},
   "source": [
    "### 50개 분리"
   ]
  },
  {
   "cell_type": "code",
   "execution_count": null,
   "id": "02f22e8e",
   "metadata": {},
   "outputs": [],
   "source": [
    "import random\n",
    "\n",
    "image_all = {}\n",
    "#validation_img_paths = random.sample(file_list, 20)\n",
    "\n",
    "for folder_name in new_50:\n",
    "    image_all[folder_name] = []\n",
    "    \n",
    "    train_img = [path+folder_name+'/'+i for i in os.listdir(path+folder_name)]\n",
    "    val_img = [path2+folder_name+'/'+i for i in os.listdir(path2+folder_name)]\n",
    "    \n",
    "    image_all[folder_name].extend(train_img)\n",
    "    image_all[folder_name].extend(val_img)"
   ]
  },
  {
   "cell_type": "code",
   "execution_count": null,
   "id": "b79495bb",
   "metadata": {},
   "outputs": [],
   "source": [
    "import shutil\n",
    "\n",
    "for folder, folder_files in image_all.items():\n",
    "    folder_path = \"/media/piai/TOSHIBA EXT/OCR_crop/new50/val/\"+folder\n",
    "    if not (os.path.isdir(folder_path)):\n",
    "        os.makedirs(folder_path)\n",
    "        \n",
    "    file50 = random.sample(folder_files, 50)    \n",
    "    for file_path in file50:\n",
    "        file_name = file_path.split('/')[-1]\n",
    "        shutil.copyfile(file_path, folder_path+'/'+file_name)"
   ]
  },
  {
   "cell_type": "code",
   "execution_count": null,
   "id": "d1e5c593",
   "metadata": {},
   "outputs": [],
   "source": []
  }
 ],
 "metadata": {
  "kernelspec": {
   "display_name": "yolov5",
   "language": "python",
   "name": "yolov5"
  },
  "language_info": {
   "codemirror_mode": {
    "name": "ipython",
    "version": 3
   },
   "file_extension": ".py",
   "mimetype": "text/x-python",
   "name": "python",
   "nbconvert_exporter": "python",
   "pygments_lexer": "ipython3",
   "version": "3.8.11"
  }
 },
 "nbformat": 4,
 "nbformat_minor": 5
}
