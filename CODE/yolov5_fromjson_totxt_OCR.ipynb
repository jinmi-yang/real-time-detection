{
 "cells": [
  {
   "cell_type": "code",
   "execution_count": 2,
   "id": "cc7dd132",
   "metadata": {},
   "outputs": [],
   "source": [
    "import os\n",
    "import json"
   ]
  },
  {
   "cell_type": "code",
   "execution_count": 15,
   "id": "b18f7414",
   "metadata": {},
   "outputs": [
    {
     "name": "stdout",
     "output_type": "stream",
     "text": [
      "file_list: 10\n"
     ]
    }
   ],
   "source": [
    "path = \"/home/piai/yolov5/data/images/test_hangul/\"\n",
    "path2 = \"/home/piai/yolov5/data/labels/test_json/\"\n",
    "\n",
    "file_list = os.listdir(path2)\n",
    "\n",
    "print (\"file_list: {}\".format(len(file_list)))"
   ]
  },
  {
   "cell_type": "code",
   "execution_count": 16,
   "id": "845d01f1",
   "metadata": {},
   "outputs": [
    {
     "data": {
      "text/plain": [
       "'활자본_023_언해류_맹자언해 원종자본11_01_043.json'"
      ]
     },
     "execution_count": 16,
     "metadata": {},
     "output_type": "execute_result"
    }
   ],
   "source": [
    "file_list[0]"
   ]
  },
  {
   "cell_type": "code",
   "execution_count": 17,
   "id": "7e9d7cef",
   "metadata": {},
   "outputs": [],
   "source": [
    "from PIL import Image\n",
    "\n",
    "# x center, y center 계산\n",
    "def convert(size, box):\n",
    "    dw = 1./size[0]\n",
    "    dh = 1./size[1]\n",
    "    x = (box[0] + box[1])/2.0\n",
    "    y = (box[2] + box[3])/2.0\n",
    "    w = box[1] - box[0]\n",
    "    h = box[3] - box[2]\n",
    "    x = round(x*dw,6)\n",
    "    w = round(w*dw,6)\n",
    "    y = round(y*dh,6)\n",
    "    h = round(h*dh,6)\n",
    "    return (x,y,w,h)"
   ]
  },
  {
   "cell_type": "code",
   "execution_count": 18,
   "id": "2f4eebca",
   "metadata": {},
   "outputs": [],
   "source": [
    "# json 파일 txt 파일로 변환\n",
    "for file_name in file_list:\n",
    "    check_tf = False\n",
    "    \n",
    "    # json 불러오기\n",
    "    with open(path2+file_name, 'r') as f:\n",
    "        json_data = json.load(f)\n",
    "            \n",
    "            \n",
    "    # json 내 개별 한자는 hanja로 변환        \n",
    "    a = []\n",
    "    for bbox in json_data['bboxes']:\n",
    "            a.append(bbox)\n",
    "\n",
    "                \n",
    "    # 이미지에 대응하는 라벨링 json 파일을 Yolo 형식에 맞춰 txt로 저장\n",
    "    b = ''\n",
    "    image = Image.open(path+file_name[:-4]+'png')\n",
    "    for aa in a:\n",
    "        b += '0 '\n",
    "    \n",
    "        width = int(image.size[0])\n",
    "        height = int(image.size[1])\n",
    "\n",
    "        #바운딩박스 위치 가져오기\n",
    "        xmin = aa[0]\n",
    "        ymin = aa[1]\n",
    "        xmax = aa[0]+aa[2]\n",
    "        ymax = aa[1]+aa[3]\n",
    "\n",
    "        #바운딩박스 위치 변환하기\n",
    "        bbox_bf = (float(xmin), float(xmax), float(ymin), float(ymax))\n",
    "        bbox = convert((width, height), bbox_bf)\n",
    "            \n",
    "        aa = list(bbox)\n",
    "\n",
    "        aa = map(str, aa)\n",
    "        b += ' '.join(aa)\n",
    "        b += '\\n'\n",
    "       \n",
    "        \n",
    "    file = open('/home/piai/yolov5/data/labels/test_hangul/%s.txt'%file_name[:-5], 'w')    # hello.txt 파일을 쓰기 모드(w)로 열기. 파일 객체 반환\n",
    "    file.write(b)                     # 파일에 문자열 저장\n",
    "    file.close()                     # 파일 객체 닫기"
   ]
  },
  {
   "cell_type": "code",
   "execution_count": null,
   "id": "87528b3d",
   "metadata": {},
   "outputs": [],
   "source": []
  },
  {
   "cell_type": "code",
   "execution_count": null,
   "id": "22005654",
   "metadata": {},
   "outputs": [],
   "source": []
  }
 ],
 "metadata": {
  "kernelspec": {
   "display_name": "Python 3",
   "language": "python",
   "name": "python3"
  },
  "language_info": {
   "codemirror_mode": {
    "name": "ipython",
    "version": 3
   },
   "file_extension": ".py",
   "mimetype": "text/x-python",
   "name": "python",
   "nbconvert_exporter": "python",
   "pygments_lexer": "ipython3",
   "version": "3.8.8"
  }
 },
 "nbformat": 4,
 "nbformat_minor": 5
}
