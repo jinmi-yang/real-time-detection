{
 "cells": [
  {
   "cell_type": "code",
   "execution_count": null,
   "id": "41a60bdc",
   "metadata": {},
   "outputs": [],
   "source": [
    "import os\n",
    "import json\n",
    "from PIL import Image"
   ]
  },
  {
   "cell_type": "code",
   "execution_count": null,
   "id": "cdb4eaba",
   "metadata": {},
   "outputs": [],
   "source": [
    "path_image = \"/media/piai/Seagate/OCR_다운로드/data/필사본/\"\n",
    "path_json = \"/media/piai/Seagate/OCR_다운로드/json/필사본/\"\n",
    "\n",
    "file_list = os.listdir(path_json)"
   ]
  },
  {
   "cell_type": "code",
   "execution_count": null,
   "id": "0175bb4f",
   "metadata": {},
   "outputs": [],
   "source": [
    "for i in file_i:\n",
    "    if i not in file_j:\n",
    "        print(I)"
   ]
  },
  {
   "cell_type": "code",
   "execution_count": null,
   "id": "3cbb1114",
   "metadata": {},
   "outputs": [],
   "source": [
    "name = set()\n",
    "for file_name in file_list:\n",
    "    # json 불러오기\n",
    "    with open(path_json+file_name, 'r') as f:\n",
    "        json_data = json.load(f)\n",
    "            \n",
    "    # json 내 개별 한자는 hanja로 변환        \n",
    "    for i in range(len(json_data['Text_Coord'])):\n",
    "            for j in range(len(json_data['Text_Coord'][i])):\n",
    "                name.add(json_data['Text_Coord'][i][j][1])\n",
    "                \n",
    "count = 0\n",
    "name_dict = {}\n",
    "for i in name:\n",
    "    name_dict[i] = count\n",
    "    count += 1\n",
    "    \n",
    "name_dict"
   ]
  },
  {
   "cell_type": "markdown",
   "id": "420c35ad",
   "metadata": {},
   "source": [
    "## make directory"
   ]
  },
  {
   "cell_type": "code",
   "execution_count": null,
   "id": "2534aa16",
   "metadata": {},
   "outputs": [],
   "source": [
    "for file in list(name_dict.keys()):\n",
    "    p = '/media/piai/Seagate/hangul/필사본/{}'.format(name_dict[file])\n",
    "    if not (os.path.isdir(p)):\n",
    "        os.makedirs(p)"
   ]
  },
  {
   "cell_type": "markdown",
   "id": "f1dc1b1f",
   "metadata": {},
   "source": [
    "## image crop and save"
   ]
  },
  {
   "cell_type": "code",
   "execution_count": null,
   "id": "87d018fe",
   "metadata": {},
   "outputs": [],
   "source": [
    "def image_crop(infilename, x, y, w, h, save_path):\n",
    "    \"\"\"\n",
    "    image file 와 crop한이미지를 저장할 path 을 입력받아 crop_img를 저장한다.\n",
    "    :param infilename:\n",
    "        crop할 대상 image file 입력으로 넣는다.\n",
    "    :param save_path:\n",
    "        crop_image file의 저장 경로를 넣는다.\n",
    "    :return:\n",
    "    \"\"\"\n",
    " \n",
    "    img = Image.open( infilename )\n",
    "    (img_h, img_w) = img.size\n",
    "    print(img.size)\n",
    " \n",
    "    # crop 할 사이즈 : grid_w, grid_h\n",
    "    bbox = (x, y, x+w, y+h)\n",
    "    # 가로 세로 시작, 가로 세로 끝\n",
    "    crop_img = img.crop(bbox)\n",
    " \n",
    "    fname = \"{}.png\".format(len(os.listdir(save_path))+1)\n",
    "    savename = save_path + fname\n",
    "    crop_img.save(savename)\n",
    "    print('save file ' + savename + '....')"
   ]
  },
  {
   "cell_type": "code",
   "execution_count": null,
   "id": "0e4d6c65",
   "metadata": {},
   "outputs": [],
   "source": [
    "path_image = \"/media/piai/Seagate/OCR_다운로드/data/필사본/\"\n",
    "path_json = \"/media/piai/Seagate/OCR_다운로드/json/필사본/\"\n",
    "\n",
    "file_list = os.listdir(path_json)"
   ]
  },
  {
   "cell_type": "code",
   "execution_count": null,
   "id": "ce2ca012",
   "metadata": {},
   "outputs": [],
   "source": [
    "# json 파일 txt 파일로 변환\n",
    "for file_name in file_list:\n",
    "    # json 불러오기\n",
    "    with open(path_json+file_name, 'r') as f:\n",
    "        json_data = json.load(f)\n",
    "\n",
    "    for i in range(len(json_data['Text_Coord'])):\n",
    "            for j in range(len(json_data['Text_Coord'][i])):\n",
    "                dirname = '/media/piai/Seagate/hangul/필사본/{}/'.format(name_dict[ json_data['Text_Coord'][i][j][1]])\n",
    "                imagepath = path_image+file_name[:-5]+'.png'\n",
    "                x, y, w, h = json_data['Text_Coord'][i][j][0][:4]\n",
    "                image_crop(imagepath,x,y,w,h,dirname)"
   ]
  },
  {
   "cell_type": "markdown",
   "id": "15497944",
   "metadata": {},
   "source": [
    "## name_dict to csv"
   ]
  },
  {
   "cell_type": "code",
   "execution_count": null,
   "id": "ee6d5619",
   "metadata": {},
   "outputs": [],
   "source": [
    "import csv\n",
    "\n",
    "with open('/media/piai/Seagate/OCR_다운로드/필사본_ori.csv', 'w') as f:  \n",
    "    writer = csv.writer(f)\n",
    "    for k, v in name_dict.items():\n",
    "        writer.writerow([k, v])\n",
    "        \n",
    "with open('/media/piai/Seagate/OCR_다운로드/필사본_re.csv', 'w') as f:  \n",
    "    writer = csv.writer(f)\n",
    "    for k, v in name_dict.items():\n",
    "        writer.writerow([v, k])"
   ]
  },
  {
   "cell_type": "code",
   "execution_count": null,
   "id": "47e692c3",
   "metadata": {},
   "outputs": [],
   "source": []
  }
 ],
 "metadata": {
  "kernelspec": {
   "display_name": "jinmi",
   "language": "python",
   "name": "jinmi"
  },
  "language_info": {
   "codemirror_mode": {
    "name": "ipython",
    "version": 3
   },
   "file_extension": ".py",
   "mimetype": "text/x-python",
   "name": "python",
   "nbconvert_exporter": "python",
   "pygments_lexer": "ipython3",
   "version": "3.9.2"
  }
 },
 "nbformat": 4,
 "nbformat_minor": 5
}
