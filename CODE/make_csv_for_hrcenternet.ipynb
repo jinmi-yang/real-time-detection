{
 "cells": [
  {
   "cell_type": "code",
   "execution_count": 1,
   "id": "8c9238d9",
   "metadata": {},
   "outputs": [],
   "source": [
    "import pandas as pd\n",
    "import json"
   ]
  },
  {
   "cell_type": "code",
   "execution_count": 2,
   "id": "800bde2c",
   "metadata": {},
   "outputs": [],
   "source": [
    "import os"
   ]
  },
  {
   "cell_type": "code",
   "execution_count": 27,
   "id": "798ca00d",
   "metadata": {},
   "outputs": [],
   "source": [
    "path = \"/home/piai/바탕화면/AI/Training/[Train원천]행서체\"\n",
    "file_list = os.listdir(path)"
   ]
  },
  {
   "cell_type": "code",
   "execution_count": 28,
   "id": "c903ffec",
   "metadata": {},
   "outputs": [],
   "source": [
    "df = pd.DataFrame([], columns=['image_id','labels'])\n",
    "\n",
    "file_num = 0\n",
    "for file_name in file_list:\n",
    "    with open(\"/home/piai/바탕화면/AI/Training/[Train라벨링]행서체/%s.json\"%file_name[:-4], 'r') as f:\n",
    "\n",
    "        json_data = json.load(f)\n",
    "            \n",
    "    a = []\n",
    "    for i in range(len(json_data['Text_Coord'])):\n",
    "            for j in range(len(json_data['Text_Coord'][i])):\n",
    "                a.append(json_data['Text_Coord'][i][j][0][:4])\n",
    "\n",
    "    b = ''\n",
    "    for aa in a:\n",
    "        b = ' hanja '\n",
    "        aa = map(int, aa)\n",
    "        aa = map(str, aa)\n",
    "        b += ' '.join(aa)\n",
    "        \n",
    "    b = b[1:]\n",
    "        \n",
    "    df.at[file_num, 'image_id'] = file_name\n",
    "    df.at[file_num, 'labels'] = b\n",
    "    \n",
    "    file_num += 1"
   ]
  },
  {
   "cell_type": "code",
   "execution_count": 29,
   "id": "b8da8eea",
   "metadata": {},
   "outputs": [],
   "source": [
    "df.to_csv(\"/home/piai/바탕화면/AI/NEW.csv\", index = False)"
   ]
  },
  {
   "cell_type": "code",
   "execution_count": null,
   "id": "83733be8",
   "metadata": {},
   "outputs": [],
   "source": []
  }
 ],
 "metadata": {
  "kernelspec": {
   "display_name": "Python 3",
   "language": "python",
   "name": "python3"
  },
  "language_info": {
   "codemirror_mode": {
    "name": "ipython",
    "version": 3
   },
   "file_extension": ".py",
   "mimetype": "text/x-python",
   "name": "python",
   "nbconvert_exporter": "python",
   "pygments_lexer": "ipython3",
   "version": "3.8.8"
  }
 },
 "nbformat": 4,
 "nbformat_minor": 5
}
