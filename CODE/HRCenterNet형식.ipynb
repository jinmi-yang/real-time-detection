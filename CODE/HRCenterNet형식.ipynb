{
 "cells": [
  {
   "cell_type": "code",
   "execution_count": 6,
   "id": "8c9238d9",
   "metadata": {},
   "outputs": [],
   "source": [
    "import pandas as pd\n",
    "import json\n",
    "import os"
   ]
  },
  {
   "cell_type": "code",
   "execution_count": 7,
   "id": "798ca00d",
   "metadata": {},
   "outputs": [
    {
     "data": {
      "text/plain": [
       "3272"
      ]
     },
     "execution_count": 7,
     "metadata": {},
     "output_type": "execute_result"
    }
   ],
   "source": [
    "path = \"/home/piai/yolov5/data/images/test_img\"\n",
    "file_list = os.listdir(path)\n",
    "len(file_list)"
   ]
  },
  {
   "cell_type": "code",
   "execution_count": 8,
   "id": "c903ffec",
   "metadata": {},
   "outputs": [],
   "source": [
    "df = pd.DataFrame([], columns=['image_id', 'labels'])\n",
    "\n",
    "file_num = 0\n",
    "for file_name in file_list:\n",
    "    with open(\"/home/piai/Documents/val_lb/%s.json\"%file_name[:-4], 'r') as f:\n",
    "\n",
    "        json_data = json.load(f)\n",
    "            \n",
    "    a = []\n",
    "    for i in range(len(json_data['Text_Coord'])):\n",
    "            for j in range(len(json_data['Text_Coord'][i])):\n",
    "                a.append(json_data['Text_Coord'][i][j][0][:4])\n",
    "\n",
    "    b = ''\n",
    "    for aa in a:\n",
    "        b += ' 0 '\n",
    "        aa = map(int, aa)\n",
    "        aa = map(str, aa)\n",
    "        b += ' '.join(aa)\n",
    "        \n",
    "    df.at[file_num, 'image_id'] = file_name\n",
    "    df.at[file_num, 'labels'] = b[1:]\n",
    "    \n",
    "    file_num += 1"
   ]
  },
  {
   "cell_type": "code",
   "execution_count": 9,
   "id": "75be42c6",
   "metadata": {},
   "outputs": [
    {
     "data": {
      "text/html": [
       "<div>\n",
       "<style scoped>\n",
       "    .dataframe tbody tr th:only-of-type {\n",
       "        vertical-align: middle;\n",
       "    }\n",
       "\n",
       "    .dataframe tbody tr th {\n",
       "        vertical-align: top;\n",
       "    }\n",
       "\n",
       "    .dataframe thead th {\n",
       "        text-align: right;\n",
       "    }\n",
       "</style>\n",
       "<table border=\"1\" class=\"dataframe\">\n",
       "  <thead>\n",
       "    <tr style=\"text-align: right;\">\n",
       "      <th></th>\n",
       "      <th>image_id</th>\n",
       "      <th>labels</th>\n",
       "    </tr>\n",
       "  </thead>\n",
       "  <tbody>\n",
       "    <tr>\n",
       "      <th>0</th>\n",
       "      <td>KSAC_I_A07000254_006_088.jpg</td>\n",
       "      <td>0 2087 1241 85 89 0 2082 1335 100 118 0 2087 1...</td>\n",
       "    </tr>\n",
       "    <tr>\n",
       "      <th>1</th>\n",
       "      <td>KSAC_I_A06000057_003_027.jpg</td>\n",
       "      <td>0 668 216 49 41 0 666 257 49 35 0 668 293 47 3...</td>\n",
       "    </tr>\n",
       "    <tr>\n",
       "      <th>2</th>\n",
       "      <td>KSAC_I_A07000219_002_116.jpg</td>\n",
       "      <td>0 2093 631 136 115 0 2087 752 142 126 0 2103 8...</td>\n",
       "    </tr>\n",
       "    <tr>\n",
       "      <th>3</th>\n",
       "      <td>KSAC_I_A06000076_025_076.jpg</td>\n",
       "      <td>0 2078 368 161 126 0 2103 494 137 128 0 2103 6...</td>\n",
       "    </tr>\n",
       "    <tr>\n",
       "      <th>4</th>\n",
       "      <td>KSAC_I_A12000064_004_131.jpg</td>\n",
       "      <td>0 673 856 42 36 0 671 894 47 43 0 659 166 44 4...</td>\n",
       "    </tr>\n",
       "  </tbody>\n",
       "</table>\n",
       "</div>"
      ],
      "text/plain": [
       "                       image_id  \\\n",
       "0  KSAC_I_A07000254_006_088.jpg   \n",
       "1  KSAC_I_A06000057_003_027.jpg   \n",
       "2  KSAC_I_A07000219_002_116.jpg   \n",
       "3  KSAC_I_A06000076_025_076.jpg   \n",
       "4  KSAC_I_A12000064_004_131.jpg   \n",
       "\n",
       "                                              labels  \n",
       "0  0 2087 1241 85 89 0 2082 1335 100 118 0 2087 1...  \n",
       "1  0 668 216 49 41 0 666 257 49 35 0 668 293 47 3...  \n",
       "2  0 2093 631 136 115 0 2087 752 142 126 0 2103 8...  \n",
       "3  0 2078 368 161 126 0 2103 494 137 128 0 2103 6...  \n",
       "4  0 673 856 42 36 0 671 894 47 43 0 659 166 44 4...  "
      ]
     },
     "execution_count": 9,
     "metadata": {},
     "output_type": "execute_result"
    }
   ],
   "source": [
    "df.head()"
   ]
  },
  {
   "cell_type": "code",
   "execution_count": 10,
   "id": "b8da8eea",
   "metadata": {},
   "outputs": [],
   "source": [
    "df.to_csv(\"/home/piai/Downloads/test.csv\", index = False)"
   ]
  },
  {
   "cell_type": "code",
   "execution_count": null,
   "id": "f95901d6",
   "metadata": {},
   "outputs": [],
   "source": []
  }
 ],
 "metadata": {
  "kernelspec": {
   "display_name": "Python 3",
   "language": "python",
   "name": "python3"
  },
  "language_info": {
   "codemirror_mode": {
    "name": "ipython",
    "version": 3
   },
   "file_extension": ".py",
   "mimetype": "text/x-python",
   "name": "python",
   "nbconvert_exporter": "python",
   "pygments_lexer": "ipython3",
   "version": "3.8.10"
  }
 },
 "nbformat": 4,
 "nbformat_minor": 5
}
